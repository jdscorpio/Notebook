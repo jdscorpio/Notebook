{
  "nbformat": 4,
  "nbformat_minor": 0,
  "metadata": {
    "colab": {
      "name": "testowy.ipynb",
      "provenance": []
    },
    "kernelspec": {
      "name": "python3",
      "display_name": "Python 3"
    }
  },
  "cells": [
    {
      "cell_type": "markdown",
      "metadata": {
        "id": "lJYFjveedvXg",
        "colab_type": "text"
      },
      "source": [
        "<b>Przykładowy tekst</b>"
      ]
    },
    {
      "cell_type": "code",
      "metadata": {
        "id": "PKLZihLHcrzX",
        "colab_type": "code",
        "colab": {}
      },
      "source": [
        "import math\n"
      ],
      "execution_count": 0,
      "outputs": []
    },
    {
      "cell_type": "code",
      "metadata": {
        "id": "Zhk4fgw0dG94",
        "colab_type": "code",
        "colab": {
          "base_uri": "https://localhost:8080/",
          "height": 187
        },
        "outputId": "4c5e2625-17bb-41de-9849-44eae5869654"
      },
      "source": [
        "for i in range(10):\n",
        "  print(math.sqrt(i))"
      ],
      "execution_count": 2,
      "outputs": [
        {
          "output_type": "stream",
          "text": [
            "0.0\n",
            "1.0\n",
            "1.4142135623730951\n",
            "1.7320508075688772\n",
            "2.0\n",
            "2.23606797749979\n",
            "2.449489742783178\n",
            "2.6457513110645907\n",
            "2.8284271247461903\n",
            "3.0\n"
          ],
          "name": "stdout"
        }
      ]
    }
  ]
}